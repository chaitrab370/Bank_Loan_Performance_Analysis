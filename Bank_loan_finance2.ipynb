{
 "cells": [
  {
   "cell_type": "code",
   "execution_count": 1,
   "id": "70e5b767-bc2b-4fd9-aaa3-32fb8f5e9e9e",
   "metadata": {},
   "outputs": [],
   "source": [
    "import pandas as pd\n",
    "import numpy as np\n",
    "\n",
    "# Load dataset\n",
    "df = pd.read_excel(\"C:/Users/chait/Downloads/financial_loan_data_excel.xlsx\", parse_dates=['issue_date','last_credit_pull_date','last_payment_date','next_payment_date'])\n",
    "\n",
    "# Convert loan_status to simplified numeric for correlation\n",
    "df['default_flag'] = df['loan_status'].apply(lambda x: 1 if x=='Charged Off' else 0)\n"
   ]
  },
  {
   "cell_type": "code",
   "execution_count": 2,
   "id": "9ddebddf-67d2-4ebd-91dd-03b92d487bf1",
   "metadata": {},
   "outputs": [
    {
     "data": {
      "text/plain": [
       "Index(['id', 'address_state', 'application_type', 'emp_length', 'emp_title',\n",
       "       'grade', 'home_ownership', 'issue_date', 'last_credit_pull_date',\n",
       "       'last_payment_date', 'loan_status', 'next_payment_date', 'member_id',\n",
       "       'purpose', 'sub_grade', 'term', 'verification_status', 'annual_income',\n",
       "       'dti', 'installment', 'int_rate', 'loan_amount', 'total_acc',\n",
       "       'total_payment', 'default_flag'],\n",
       "      dtype='object')"
      ]
     },
     "execution_count": 2,
     "metadata": {},
     "output_type": "execute_result"
    }
   ],
   "source": [
    "df.columns"
   ]
  },
  {
   "cell_type": "code",
   "execution_count": 3,
   "id": "df57eb2d-296c-4d58-b217-8dfc65a7cf7f",
   "metadata": {},
   "outputs": [
    {
     "data": {
      "text/html": [
       "<div>\n",
       "<style scoped>\n",
       "    .dataframe tbody tr th:only-of-type {\n",
       "        vertical-align: middle;\n",
       "    }\n",
       "\n",
       "    .dataframe tbody tr th {\n",
       "        vertical-align: top;\n",
       "    }\n",
       "\n",
       "    .dataframe thead th {\n",
       "        text-align: right;\n",
       "    }\n",
       "</style>\n",
       "<table border=\"1\" class=\"dataframe\">\n",
       "  <thead>\n",
       "    <tr style=\"text-align: right;\">\n",
       "      <th></th>\n",
       "      <th>id</th>\n",
       "      <th>address_state</th>\n",
       "      <th>application_type</th>\n",
       "      <th>emp_length</th>\n",
       "      <th>emp_title</th>\n",
       "      <th>grade</th>\n",
       "      <th>home_ownership</th>\n",
       "      <th>issue_date</th>\n",
       "      <th>last_credit_pull_date</th>\n",
       "      <th>last_payment_date</th>\n",
       "      <th>...</th>\n",
       "      <th>term</th>\n",
       "      <th>verification_status</th>\n",
       "      <th>annual_income</th>\n",
       "      <th>dti</th>\n",
       "      <th>installment</th>\n",
       "      <th>int_rate</th>\n",
       "      <th>loan_amount</th>\n",
       "      <th>total_acc</th>\n",
       "      <th>total_payment</th>\n",
       "      <th>default_flag</th>\n",
       "    </tr>\n",
       "  </thead>\n",
       "  <tbody>\n",
       "    <tr>\n",
       "      <th>0</th>\n",
       "      <td>1077430</td>\n",
       "      <td>GA</td>\n",
       "      <td>INDIVIDUAL</td>\n",
       "      <td>&lt; 1 year</td>\n",
       "      <td>Ryder</td>\n",
       "      <td>C</td>\n",
       "      <td>RENT</td>\n",
       "      <td>2021-02-11</td>\n",
       "      <td>2021-09-13</td>\n",
       "      <td>2021-04-13</td>\n",
       "      <td>...</td>\n",
       "      <td>60 months</td>\n",
       "      <td>Source Verified</td>\n",
       "      <td>30000.0</td>\n",
       "      <td>0.0100</td>\n",
       "      <td>59.83</td>\n",
       "      <td>0.1527</td>\n",
       "      <td>2500</td>\n",
       "      <td>4</td>\n",
       "      <td>1009</td>\n",
       "      <td>1</td>\n",
       "    </tr>\n",
       "    <tr>\n",
       "      <th>1</th>\n",
       "      <td>1072053</td>\n",
       "      <td>CA</td>\n",
       "      <td>INDIVIDUAL</td>\n",
       "      <td>9 years</td>\n",
       "      <td>MKC Accounting</td>\n",
       "      <td>E</td>\n",
       "      <td>RENT</td>\n",
       "      <td>2021-01-01</td>\n",
       "      <td>2021-12-14</td>\n",
       "      <td>2021-01-15</td>\n",
       "      <td>...</td>\n",
       "      <td>36 months</td>\n",
       "      <td>Source Verified</td>\n",
       "      <td>48000.0</td>\n",
       "      <td>0.0535</td>\n",
       "      <td>109.43</td>\n",
       "      <td>0.1864</td>\n",
       "      <td>3000</td>\n",
       "      <td>4</td>\n",
       "      <td>3939</td>\n",
       "      <td>0</td>\n",
       "    </tr>\n",
       "    <tr>\n",
       "      <th>2</th>\n",
       "      <td>1069243</td>\n",
       "      <td>CA</td>\n",
       "      <td>INDIVIDUAL</td>\n",
       "      <td>4 years</td>\n",
       "      <td>Chemat Technology Inc</td>\n",
       "      <td>C</td>\n",
       "      <td>RENT</td>\n",
       "      <td>2021-01-05</td>\n",
       "      <td>2021-12-12</td>\n",
       "      <td>2021-01-09</td>\n",
       "      <td>...</td>\n",
       "      <td>36 months</td>\n",
       "      <td>Not Verified</td>\n",
       "      <td>50000.0</td>\n",
       "      <td>0.2088</td>\n",
       "      <td>421.65</td>\n",
       "      <td>0.1596</td>\n",
       "      <td>12000</td>\n",
       "      <td>11</td>\n",
       "      <td>3522</td>\n",
       "      <td>1</td>\n",
       "    </tr>\n",
       "    <tr>\n",
       "      <th>3</th>\n",
       "      <td>1041756</td>\n",
       "      <td>TX</td>\n",
       "      <td>INDIVIDUAL</td>\n",
       "      <td>&lt; 1 year</td>\n",
       "      <td>barnes distribution</td>\n",
       "      <td>B</td>\n",
       "      <td>MORTGAGE</td>\n",
       "      <td>2021-02-25</td>\n",
       "      <td>2021-12-12</td>\n",
       "      <td>2021-03-12</td>\n",
       "      <td>...</td>\n",
       "      <td>60 months</td>\n",
       "      <td>Source Verified</td>\n",
       "      <td>42000.0</td>\n",
       "      <td>0.0540</td>\n",
       "      <td>97.06</td>\n",
       "      <td>0.1065</td>\n",
       "      <td>4500</td>\n",
       "      <td>9</td>\n",
       "      <td>4911</td>\n",
       "      <td>0</td>\n",
       "    </tr>\n",
       "    <tr>\n",
       "      <th>4</th>\n",
       "      <td>1068350</td>\n",
       "      <td>IL</td>\n",
       "      <td>INDIVIDUAL</td>\n",
       "      <td>10+ years</td>\n",
       "      <td>J&amp;J Steel Inc</td>\n",
       "      <td>A</td>\n",
       "      <td>MORTGAGE</td>\n",
       "      <td>2021-01-01</td>\n",
       "      <td>2021-12-14</td>\n",
       "      <td>2021-01-15</td>\n",
       "      <td>...</td>\n",
       "      <td>36 months</td>\n",
       "      <td>Verified</td>\n",
       "      <td>83000.0</td>\n",
       "      <td>0.0231</td>\n",
       "      <td>106.53</td>\n",
       "      <td>0.0603</td>\n",
       "      <td>3500</td>\n",
       "      <td>28</td>\n",
       "      <td>3835</td>\n",
       "      <td>0</td>\n",
       "    </tr>\n",
       "  </tbody>\n",
       "</table>\n",
       "<p>5 rows × 25 columns</p>\n",
       "</div>"
      ],
      "text/plain": [
       "        id address_state application_type emp_length              emp_title  \\\n",
       "0  1077430            GA       INDIVIDUAL   < 1 year                  Ryder   \n",
       "1  1072053            CA       INDIVIDUAL    9 years         MKC Accounting   \n",
       "2  1069243            CA       INDIVIDUAL    4 years  Chemat Technology Inc   \n",
       "3  1041756            TX       INDIVIDUAL   < 1 year    barnes distribution   \n",
       "4  1068350            IL       INDIVIDUAL  10+ years          J&J Steel Inc   \n",
       "\n",
       "  grade home_ownership issue_date last_credit_pull_date last_payment_date  \\\n",
       "0     C           RENT 2021-02-11            2021-09-13        2021-04-13   \n",
       "1     E           RENT 2021-01-01            2021-12-14        2021-01-15   \n",
       "2     C           RENT 2021-01-05            2021-12-12        2021-01-09   \n",
       "3     B       MORTGAGE 2021-02-25            2021-12-12        2021-03-12   \n",
       "4     A       MORTGAGE 2021-01-01            2021-12-14        2021-01-15   \n",
       "\n",
       "   ...        term verification_status  annual_income     dti installment  \\\n",
       "0  ...   60 months     Source Verified        30000.0  0.0100       59.83   \n",
       "1  ...   36 months     Source Verified        48000.0  0.0535      109.43   \n",
       "2  ...   36 months        Not Verified        50000.0  0.2088      421.65   \n",
       "3  ...   60 months     Source Verified        42000.0  0.0540       97.06   \n",
       "4  ...   36 months            Verified        83000.0  0.0231      106.53   \n",
       "\n",
       "  int_rate loan_amount  total_acc  total_payment  default_flag  \n",
       "0   0.1527        2500          4           1009             1  \n",
       "1   0.1864        3000          4           3939             0  \n",
       "2   0.1596       12000         11           3522             1  \n",
       "3   0.1065        4500          9           4911             0  \n",
       "4   0.0603        3500         28           3835             0  \n",
       "\n",
       "[5 rows x 25 columns]"
      ]
     },
     "execution_count": 3,
     "metadata": {},
     "output_type": "execute_result"
    }
   ],
   "source": [
    "df.head()"
   ]
  },
  {
   "cell_type": "code",
   "execution_count": 4,
   "id": "27ce609c-c31e-4489-9b0d-f5b68d60ba94",
   "metadata": {},
   "outputs": [
    {
     "data": {
      "text/html": [
       "<div>\n",
       "<style scoped>\n",
       "    .dataframe tbody tr th:only-of-type {\n",
       "        vertical-align: middle;\n",
       "    }\n",
       "\n",
       "    .dataframe tbody tr th {\n",
       "        vertical-align: top;\n",
       "    }\n",
       "\n",
       "    .dataframe thead th {\n",
       "        text-align: right;\n",
       "    }\n",
       "</style>\n",
       "<table border=\"1\" class=\"dataframe\">\n",
       "  <thead>\n",
       "    <tr style=\"text-align: right;\">\n",
       "      <th></th>\n",
       "      <th>id</th>\n",
       "      <th>address_state</th>\n",
       "      <th>application_type</th>\n",
       "      <th>emp_length</th>\n",
       "      <th>emp_title</th>\n",
       "      <th>grade</th>\n",
       "      <th>home_ownership</th>\n",
       "      <th>issue_date</th>\n",
       "      <th>last_credit_pull_date</th>\n",
       "      <th>last_payment_date</th>\n",
       "      <th>...</th>\n",
       "      <th>term</th>\n",
       "      <th>verification_status</th>\n",
       "      <th>annual_income</th>\n",
       "      <th>dti</th>\n",
       "      <th>installment</th>\n",
       "      <th>int_rate</th>\n",
       "      <th>loan_amount</th>\n",
       "      <th>total_acc</th>\n",
       "      <th>total_payment</th>\n",
       "      <th>default_flag</th>\n",
       "    </tr>\n",
       "  </thead>\n",
       "  <tbody>\n",
       "    <tr>\n",
       "      <th>38571</th>\n",
       "      <td>803452</td>\n",
       "      <td>NJ</td>\n",
       "      <td>INDIVIDUAL</td>\n",
       "      <td>&lt; 1 year</td>\n",
       "      <td>Joseph M Sanzari Company</td>\n",
       "      <td>C</td>\n",
       "      <td>MORTGAGE</td>\n",
       "      <td>2021-07-11</td>\n",
       "      <td>2021-05-16</td>\n",
       "      <td>2021-05-16</td>\n",
       "      <td>...</td>\n",
       "      <td>60 months</td>\n",
       "      <td>Verified</td>\n",
       "      <td>100000.0</td>\n",
       "      <td>0.1986</td>\n",
       "      <td>551.64</td>\n",
       "      <td>0.1299</td>\n",
       "      <td>24250</td>\n",
       "      <td>33</td>\n",
       "      <td>31946</td>\n",
       "      <td>0</td>\n",
       "    </tr>\n",
       "    <tr>\n",
       "      <th>38572</th>\n",
       "      <td>970377</td>\n",
       "      <td>NY</td>\n",
       "      <td>INDIVIDUAL</td>\n",
       "      <td>8 years</td>\n",
       "      <td>Swat Fame</td>\n",
       "      <td>C</td>\n",
       "      <td>RENT</td>\n",
       "      <td>2021-10-11</td>\n",
       "      <td>2021-04-16</td>\n",
       "      <td>2021-05-16</td>\n",
       "      <td>...</td>\n",
       "      <td>60 months</td>\n",
       "      <td>Verified</td>\n",
       "      <td>50000.0</td>\n",
       "      <td>0.0458</td>\n",
       "      <td>579.72</td>\n",
       "      <td>0.1349</td>\n",
       "      <td>25200</td>\n",
       "      <td>18</td>\n",
       "      <td>31870</td>\n",
       "      <td>0</td>\n",
       "    </tr>\n",
       "    <tr>\n",
       "      <th>38573</th>\n",
       "      <td>875376</td>\n",
       "      <td>CA</td>\n",
       "      <td>INDIVIDUAL</td>\n",
       "      <td>5 years</td>\n",
       "      <td>Anaheim Regional Medical Center</td>\n",
       "      <td>D</td>\n",
       "      <td>RENT</td>\n",
       "      <td>2021-09-11</td>\n",
       "      <td>2021-05-16</td>\n",
       "      <td>2021-05-16</td>\n",
       "      <td>...</td>\n",
       "      <td>60 months</td>\n",
       "      <td>Verified</td>\n",
       "      <td>65000.0</td>\n",
       "      <td>0.1734</td>\n",
       "      <td>627.93</td>\n",
       "      <td>0.1749</td>\n",
       "      <td>25000</td>\n",
       "      <td>20</td>\n",
       "      <td>35721</td>\n",
       "      <td>0</td>\n",
       "    </tr>\n",
       "    <tr>\n",
       "      <th>38574</th>\n",
       "      <td>972997</td>\n",
       "      <td>NY</td>\n",
       "      <td>INDIVIDUAL</td>\n",
       "      <td>5 years</td>\n",
       "      <td>Brooklyn Radiology</td>\n",
       "      <td>D</td>\n",
       "      <td>RENT</td>\n",
       "      <td>2021-10-11</td>\n",
       "      <td>2021-05-16</td>\n",
       "      <td>2021-05-16</td>\n",
       "      <td>...</td>\n",
       "      <td>60 months</td>\n",
       "      <td>Verified</td>\n",
       "      <td>368000.0</td>\n",
       "      <td>0.0009</td>\n",
       "      <td>612.72</td>\n",
       "      <td>0.1825</td>\n",
       "      <td>24000</td>\n",
       "      <td>9</td>\n",
       "      <td>33677</td>\n",
       "      <td>0</td>\n",
       "    </tr>\n",
       "    <tr>\n",
       "      <th>38575</th>\n",
       "      <td>682952</td>\n",
       "      <td>NY</td>\n",
       "      <td>INDIVIDUAL</td>\n",
       "      <td>4 years</td>\n",
       "      <td>Allen Edmonds</td>\n",
       "      <td>F</td>\n",
       "      <td>RENT</td>\n",
       "      <td>2021-07-11</td>\n",
       "      <td>2021-05-16</td>\n",
       "      <td>2021-05-16</td>\n",
       "      <td>...</td>\n",
       "      <td>60 months</td>\n",
       "      <td>Verified</td>\n",
       "      <td>80000.0</td>\n",
       "      <td>0.0600</td>\n",
       "      <td>486.86</td>\n",
       "      <td>0.2099</td>\n",
       "      <td>18000</td>\n",
       "      <td>7</td>\n",
       "      <td>27679</td>\n",
       "      <td>0</td>\n",
       "    </tr>\n",
       "  </tbody>\n",
       "</table>\n",
       "<p>5 rows × 25 columns</p>\n",
       "</div>"
      ],
      "text/plain": [
       "           id address_state application_type emp_length  \\\n",
       "38571  803452            NJ       INDIVIDUAL   < 1 year   \n",
       "38572  970377            NY       INDIVIDUAL    8 years   \n",
       "38573  875376            CA       INDIVIDUAL    5 years   \n",
       "38574  972997            NY       INDIVIDUAL    5 years   \n",
       "38575  682952            NY       INDIVIDUAL    4 years   \n",
       "\n",
       "                             emp_title grade home_ownership issue_date  \\\n",
       "38571         Joseph M Sanzari Company     C       MORTGAGE 2021-07-11   \n",
       "38572                        Swat Fame     C           RENT 2021-10-11   \n",
       "38573  Anaheim Regional Medical Center     D           RENT 2021-09-11   \n",
       "38574               Brooklyn Radiology     D           RENT 2021-10-11   \n",
       "38575                    Allen Edmonds     F           RENT 2021-07-11   \n",
       "\n",
       "      last_credit_pull_date last_payment_date  ...        term  \\\n",
       "38571            2021-05-16        2021-05-16  ...   60 months   \n",
       "38572            2021-04-16        2021-05-16  ...   60 months   \n",
       "38573            2021-05-16        2021-05-16  ...   60 months   \n",
       "38574            2021-05-16        2021-05-16  ...   60 months   \n",
       "38575            2021-05-16        2021-05-16  ...   60 months   \n",
       "\n",
       "      verification_status  annual_income     dti installment int_rate  \\\n",
       "38571            Verified       100000.0  0.1986      551.64   0.1299   \n",
       "38572            Verified        50000.0  0.0458      579.72   0.1349   \n",
       "38573            Verified        65000.0  0.1734      627.93   0.1749   \n",
       "38574            Verified       368000.0  0.0009      612.72   0.1825   \n",
       "38575            Verified        80000.0  0.0600      486.86   0.2099   \n",
       "\n",
       "      loan_amount  total_acc  total_payment  default_flag  \n",
       "38571       24250         33          31946             0  \n",
       "38572       25200         18          31870             0  \n",
       "38573       25000         20          35721             0  \n",
       "38574       24000          9          33677             0  \n",
       "38575       18000          7          27679             0  \n",
       "\n",
       "[5 rows x 25 columns]"
      ]
     },
     "execution_count": 4,
     "metadata": {},
     "output_type": "execute_result"
    }
   ],
   "source": [
    "df.tail()"
   ]
  },
  {
   "cell_type": "code",
   "execution_count": 5,
   "id": "03f86d4f-ee9e-49cd-bcac-2112a3132f4f",
   "metadata": {},
   "outputs": [
    {
     "name": "stdout",
     "output_type": "stream",
     "text": [
      "<class 'pandas.core.frame.DataFrame'>\n",
      "RangeIndex: 38576 entries, 0 to 38575\n",
      "Data columns (total 25 columns):\n",
      " #   Column                 Non-Null Count  Dtype         \n",
      "---  ------                 --------------  -----         \n",
      " 0   id                     38576 non-null  int64         \n",
      " 1   address_state          38576 non-null  object        \n",
      " 2   application_type       38576 non-null  object        \n",
      " 3   emp_length             38576 non-null  object        \n",
      " 4   emp_title              37138 non-null  object        \n",
      " 5   grade                  38576 non-null  object        \n",
      " 6   home_ownership         38576 non-null  object        \n",
      " 7   issue_date             38576 non-null  datetime64[ns]\n",
      " 8   last_credit_pull_date  38576 non-null  datetime64[ns]\n",
      " 9   last_payment_date      38576 non-null  datetime64[ns]\n",
      " 10  loan_status            38576 non-null  object        \n",
      " 11  next_payment_date      38576 non-null  datetime64[ns]\n",
      " 12  member_id              38576 non-null  int64         \n",
      " 13  purpose                38576 non-null  object        \n",
      " 14  sub_grade              38576 non-null  object        \n",
      " 15  term                   38576 non-null  object        \n",
      " 16  verification_status    38576 non-null  object        \n",
      " 17  annual_income          38576 non-null  float64       \n",
      " 18  dti                    38576 non-null  float64       \n",
      " 19  installment            38576 non-null  float64       \n",
      " 20  int_rate               38576 non-null  float64       \n",
      " 21  loan_amount            38576 non-null  int64         \n",
      " 22  total_acc              38576 non-null  int64         \n",
      " 23  total_payment          38576 non-null  int64         \n",
      " 24  default_flag           38576 non-null  int64         \n",
      "dtypes: datetime64[ns](4), float64(4), int64(6), object(11)\n",
      "memory usage: 7.4+ MB\n"
     ]
    }
   ],
   "source": [
    "df.info()"
   ]
  },
  {
   "cell_type": "code",
   "execution_count": 9,
   "id": "6fe6d1d3-08e3-4031-b56f-d483883776de",
   "metadata": {},
   "outputs": [
    {
     "name": "stdout",
     "output_type": "stream",
     "text": [
      "No of rows: 38576\n"
     ]
    }
   ],
   "source": [
    "print(\"No of rows:\", df.shape[0])"
   ]
  },
  {
   "cell_type": "code",
   "execution_count": 10,
   "id": "ae4e73ee-f2f8-4bd6-bc7d-ce28f0705c9c",
   "metadata": {},
   "outputs": [
    {
     "name": "stdout",
     "output_type": "stream",
     "text": [
      "No of Columns: 25\n"
     ]
    }
   ],
   "source": [
    "print(\"No of Columns:\", df.shape[1])"
   ]
  },
  {
   "cell_type": "code",
   "execution_count": 11,
   "id": "24bb3e5e-8edf-4fc7-a3fa-bb0c64a7776a",
   "metadata": {},
   "outputs": [
    {
     "name": "stdout",
     "output_type": "stream",
     "text": [
      "<class 'pandas.core.frame.DataFrame'>\n",
      "RangeIndex: 38576 entries, 0 to 38575\n",
      "Data columns (total 25 columns):\n",
      " #   Column                 Non-Null Count  Dtype         \n",
      "---  ------                 --------------  -----         \n",
      " 0   id                     38576 non-null  int64         \n",
      " 1   address_state          38576 non-null  object        \n",
      " 2   application_type       38576 non-null  object        \n",
      " 3   emp_length             38576 non-null  object        \n",
      " 4   emp_title              37138 non-null  object        \n",
      " 5   grade                  38576 non-null  object        \n",
      " 6   home_ownership         38576 non-null  object        \n",
      " 7   issue_date             38576 non-null  datetime64[ns]\n",
      " 8   last_credit_pull_date  38576 non-null  datetime64[ns]\n",
      " 9   last_payment_date      38576 non-null  datetime64[ns]\n",
      " 10  loan_status            38576 non-null  object        \n",
      " 11  next_payment_date      38576 non-null  datetime64[ns]\n",
      " 12  member_id              38576 non-null  int64         \n",
      " 13  purpose                38576 non-null  object        \n",
      " 14  sub_grade              38576 non-null  object        \n",
      " 15  term                   38576 non-null  object        \n",
      " 16  verification_status    38576 non-null  object        \n",
      " 17  annual_income          38576 non-null  float64       \n",
      " 18  dti                    38576 non-null  float64       \n",
      " 19  installment            38576 non-null  float64       \n",
      " 20  int_rate               38576 non-null  float64       \n",
      " 21  loan_amount            38576 non-null  int64         \n",
      " 22  total_acc              38576 non-null  int64         \n",
      " 23  total_payment          38576 non-null  int64         \n",
      " 24  default_flag           38576 non-null  int64         \n",
      "dtypes: datetime64[ns](4), float64(4), int64(6), object(11)\n",
      "memory usage: 7.4+ MB\n"
     ]
    }
   ],
   "source": [
    "df.info()"
   ]
  },
  {
   "cell_type": "code",
   "execution_count": 12,
   "id": "e5febf5d-2180-4280-9674-d90645953dac",
   "metadata": {},
   "outputs": [
    {
     "data": {
      "text/plain": [
       "id                                int64\n",
       "address_state                    object\n",
       "application_type                 object\n",
       "emp_length                       object\n",
       "emp_title                        object\n",
       "grade                            object\n",
       "home_ownership                   object\n",
       "issue_date               datetime64[ns]\n",
       "last_credit_pull_date    datetime64[ns]\n",
       "last_payment_date        datetime64[ns]\n",
       "loan_status                      object\n",
       "next_payment_date        datetime64[ns]\n",
       "member_id                         int64\n",
       "purpose                          object\n",
       "sub_grade                        object\n",
       "term                             object\n",
       "verification_status              object\n",
       "annual_income                   float64\n",
       "dti                             float64\n",
       "installment                     float64\n",
       "int_rate                        float64\n",
       "loan_amount                       int64\n",
       "total_acc                         int64\n",
       "total_payment                     int64\n",
       "default_flag                      int64\n",
       "dtype: object"
      ]
     },
     "execution_count": 12,
     "metadata": {},
     "output_type": "execute_result"
    }
   ],
   "source": [
    "df.dtypes"
   ]
  },
  {
   "cell_type": "code",
   "execution_count": 13,
   "id": "279a59b3-6a50-45d4-93ba-9bbb9db3438c",
   "metadata": {},
   "outputs": [
    {
     "data": {
      "text/html": [
       "<div>\n",
       "<style scoped>\n",
       "    .dataframe tbody tr th:only-of-type {\n",
       "        vertical-align: middle;\n",
       "    }\n",
       "\n",
       "    .dataframe tbody tr th {\n",
       "        vertical-align: top;\n",
       "    }\n",
       "\n",
       "    .dataframe thead th {\n",
       "        text-align: right;\n",
       "    }\n",
       "</style>\n",
       "<table border=\"1\" class=\"dataframe\">\n",
       "  <thead>\n",
       "    <tr style=\"text-align: right;\">\n",
       "      <th></th>\n",
       "      <th>id</th>\n",
       "      <th>issue_date</th>\n",
       "      <th>last_credit_pull_date</th>\n",
       "      <th>last_payment_date</th>\n",
       "      <th>next_payment_date</th>\n",
       "      <th>member_id</th>\n",
       "      <th>annual_income</th>\n",
       "      <th>dti</th>\n",
       "      <th>installment</th>\n",
       "      <th>int_rate</th>\n",
       "      <th>loan_amount</th>\n",
       "      <th>total_acc</th>\n",
       "      <th>total_payment</th>\n",
       "      <th>default_flag</th>\n",
       "    </tr>\n",
       "  </thead>\n",
       "  <tbody>\n",
       "    <tr>\n",
       "      <th>count</th>\n",
       "      <td>3.857600e+04</td>\n",
       "      <td>38576</td>\n",
       "      <td>38576</td>\n",
       "      <td>38576</td>\n",
       "      <td>38576</td>\n",
       "      <td>3.857600e+04</td>\n",
       "      <td>3.857600e+04</td>\n",
       "      <td>38576.000000</td>\n",
       "      <td>38576.000000</td>\n",
       "      <td>38576.000000</td>\n",
       "      <td>38576.000000</td>\n",
       "      <td>38576.000000</td>\n",
       "      <td>38576.000000</td>\n",
       "      <td>38576.000000</td>\n",
       "    </tr>\n",
       "    <tr>\n",
       "      <th>mean</th>\n",
       "      <td>6.810371e+05</td>\n",
       "      <td>2021-07-16 02:31:35.562007040</td>\n",
       "      <td>2021-06-08 13:36:34.193280512</td>\n",
       "      <td>2021-06-26 09:52:08.909166080</td>\n",
       "      <td>2021-07-26 20:42:20.605557760</td>\n",
       "      <td>8.476515e+05</td>\n",
       "      <td>6.964454e+04</td>\n",
       "      <td>0.133274</td>\n",
       "      <td>326.862965</td>\n",
       "      <td>0.120488</td>\n",
       "      <td>11296.066855</td>\n",
       "      <td>22.132544</td>\n",
       "      <td>12263.348533</td>\n",
       "      <td>0.138247</td>\n",
       "    </tr>\n",
       "    <tr>\n",
       "      <th>min</th>\n",
       "      <td>5.473400e+04</td>\n",
       "      <td>2021-01-01 00:00:00</td>\n",
       "      <td>2021-01-08 00:00:00</td>\n",
       "      <td>2021-01-08 00:00:00</td>\n",
       "      <td>2021-02-08 00:00:00</td>\n",
       "      <td>7.069900e+04</td>\n",
       "      <td>4.000000e+03</td>\n",
       "      <td>0.000000</td>\n",
       "      <td>15.690000</td>\n",
       "      <td>0.054200</td>\n",
       "      <td>500.000000</td>\n",
       "      <td>2.000000</td>\n",
       "      <td>34.000000</td>\n",
       "      <td>0.000000</td>\n",
       "    </tr>\n",
       "    <tr>\n",
       "      <th>25%</th>\n",
       "      <td>5.135170e+05</td>\n",
       "      <td>2021-04-11 00:00:00</td>\n",
       "      <td>2021-04-15 00:00:00</td>\n",
       "      <td>2021-03-16 00:00:00</td>\n",
       "      <td>2021-04-16 00:00:00</td>\n",
       "      <td>6.629788e+05</td>\n",
       "      <td>4.150000e+04</td>\n",
       "      <td>0.082100</td>\n",
       "      <td>168.450000</td>\n",
       "      <td>0.093200</td>\n",
       "      <td>5500.000000</td>\n",
       "      <td>14.000000</td>\n",
       "      <td>5633.000000</td>\n",
       "      <td>0.000000</td>\n",
       "    </tr>\n",
       "    <tr>\n",
       "      <th>50%</th>\n",
       "      <td>6.627280e+05</td>\n",
       "      <td>2021-07-11 00:00:00</td>\n",
       "      <td>2021-05-16 00:00:00</td>\n",
       "      <td>2021-06-14 00:00:00</td>\n",
       "      <td>2021-07-14 00:00:00</td>\n",
       "      <td>8.473565e+05</td>\n",
       "      <td>6.000000e+04</td>\n",
       "      <td>0.134200</td>\n",
       "      <td>283.045000</td>\n",
       "      <td>0.118600</td>\n",
       "      <td>10000.000000</td>\n",
       "      <td>20.000000</td>\n",
       "      <td>10042.000000</td>\n",
       "      <td>0.000000</td>\n",
       "    </tr>\n",
       "    <tr>\n",
       "      <th>75%</th>\n",
       "      <td>8.365060e+05</td>\n",
       "      <td>2021-10-11 00:00:00</td>\n",
       "      <td>2021-08-13 00:00:00</td>\n",
       "      <td>2021-09-15 00:00:00</td>\n",
       "      <td>2021-10-15 00:00:00</td>\n",
       "      <td>1.045652e+06</td>\n",
       "      <td>8.320050e+04</td>\n",
       "      <td>0.185900</td>\n",
       "      <td>434.442500</td>\n",
       "      <td>0.145900</td>\n",
       "      <td>15000.000000</td>\n",
       "      <td>29.000000</td>\n",
       "      <td>16658.000000</td>\n",
       "      <td>0.000000</td>\n",
       "    </tr>\n",
       "    <tr>\n",
       "      <th>max</th>\n",
       "      <td>1.077501e+06</td>\n",
       "      <td>2021-12-12 00:00:00</td>\n",
       "      <td>2022-01-20 00:00:00</td>\n",
       "      <td>2021-12-15 00:00:00</td>\n",
       "      <td>2022-01-15 00:00:00</td>\n",
       "      <td>1.314167e+06</td>\n",
       "      <td>6.000000e+06</td>\n",
       "      <td>0.299900</td>\n",
       "      <td>1305.190000</td>\n",
       "      <td>0.245900</td>\n",
       "      <td>35000.000000</td>\n",
       "      <td>90.000000</td>\n",
       "      <td>58564.000000</td>\n",
       "      <td>1.000000</td>\n",
       "    </tr>\n",
       "    <tr>\n",
       "      <th>std</th>\n",
       "      <td>2.113246e+05</td>\n",
       "      <td>NaN</td>\n",
       "      <td>NaN</td>\n",
       "      <td>NaN</td>\n",
       "      <td>NaN</td>\n",
       "      <td>2.668105e+05</td>\n",
       "      <td>6.429368e+04</td>\n",
       "      <td>0.066662</td>\n",
       "      <td>209.092000</td>\n",
       "      <td>0.037164</td>\n",
       "      <td>7460.746022</td>\n",
       "      <td>11.392282</td>\n",
       "      <td>9051.104777</td>\n",
       "      <td>0.345163</td>\n",
       "    </tr>\n",
       "  </tbody>\n",
       "</table>\n",
       "</div>"
      ],
      "text/plain": [
       "                 id                     issue_date  \\\n",
       "count  3.857600e+04                          38576   \n",
       "mean   6.810371e+05  2021-07-16 02:31:35.562007040   \n",
       "min    5.473400e+04            2021-01-01 00:00:00   \n",
       "25%    5.135170e+05            2021-04-11 00:00:00   \n",
       "50%    6.627280e+05            2021-07-11 00:00:00   \n",
       "75%    8.365060e+05            2021-10-11 00:00:00   \n",
       "max    1.077501e+06            2021-12-12 00:00:00   \n",
       "std    2.113246e+05                            NaN   \n",
       "\n",
       "               last_credit_pull_date              last_payment_date  \\\n",
       "count                          38576                          38576   \n",
       "mean   2021-06-08 13:36:34.193280512  2021-06-26 09:52:08.909166080   \n",
       "min              2021-01-08 00:00:00            2021-01-08 00:00:00   \n",
       "25%              2021-04-15 00:00:00            2021-03-16 00:00:00   \n",
       "50%              2021-05-16 00:00:00            2021-06-14 00:00:00   \n",
       "75%              2021-08-13 00:00:00            2021-09-15 00:00:00   \n",
       "max              2022-01-20 00:00:00            2021-12-15 00:00:00   \n",
       "std                              NaN                            NaN   \n",
       "\n",
       "                   next_payment_date     member_id  annual_income  \\\n",
       "count                          38576  3.857600e+04   3.857600e+04   \n",
       "mean   2021-07-26 20:42:20.605557760  8.476515e+05   6.964454e+04   \n",
       "min              2021-02-08 00:00:00  7.069900e+04   4.000000e+03   \n",
       "25%              2021-04-16 00:00:00  6.629788e+05   4.150000e+04   \n",
       "50%              2021-07-14 00:00:00  8.473565e+05   6.000000e+04   \n",
       "75%              2021-10-15 00:00:00  1.045652e+06   8.320050e+04   \n",
       "max              2022-01-15 00:00:00  1.314167e+06   6.000000e+06   \n",
       "std                              NaN  2.668105e+05   6.429368e+04   \n",
       "\n",
       "                dti   installment      int_rate   loan_amount     total_acc  \\\n",
       "count  38576.000000  38576.000000  38576.000000  38576.000000  38576.000000   \n",
       "mean       0.133274    326.862965      0.120488  11296.066855     22.132544   \n",
       "min        0.000000     15.690000      0.054200    500.000000      2.000000   \n",
       "25%        0.082100    168.450000      0.093200   5500.000000     14.000000   \n",
       "50%        0.134200    283.045000      0.118600  10000.000000     20.000000   \n",
       "75%        0.185900    434.442500      0.145900  15000.000000     29.000000   \n",
       "max        0.299900   1305.190000      0.245900  35000.000000     90.000000   \n",
       "std        0.066662    209.092000      0.037164   7460.746022     11.392282   \n",
       "\n",
       "       total_payment  default_flag  \n",
       "count   38576.000000  38576.000000  \n",
       "mean    12263.348533      0.138247  \n",
       "min        34.000000      0.000000  \n",
       "25%      5633.000000      0.000000  \n",
       "50%     10042.000000      0.000000  \n",
       "75%     16658.000000      0.000000  \n",
       "max     58564.000000      1.000000  \n",
       "std      9051.104777      0.345163  "
      ]
     },
     "execution_count": 13,
     "metadata": {},
     "output_type": "execute_result"
    }
   ],
   "source": [
    "df.describe()"
   ]
  },
  {
   "cell_type": "code",
   "execution_count": 14,
   "id": "3ce260fb-3262-4aa4-ac99-79a9e9149588",
   "metadata": {},
   "outputs": [
    {
     "name": "stdout",
     "output_type": "stream",
     "text": [
      "Highest default rate state: NE\n",
      "Lowest default rate state: ME\n"
     ]
    }
   ],
   "source": [
    "state_perf = df.groupby('address_state')['default_flag'].mean().sort_values(ascending=False)\n",
    "highest_default_state = state_perf.idxmax()\n",
    "lowest_default_state = state_perf.idxmin()\n",
    "print(\"Highest default rate state:\", highest_default_state)\n",
    "print(\"Lowest default rate state:\", lowest_default_state)\n"
   ]
  },
  {
   "cell_type": "code",
   "execution_count": 15,
   "id": "72985e05-a601-4705-a9f2-0771a55dc1d0",
   "metadata": {},
   "outputs": [
    {
     "name": "stdout",
     "output_type": "stream",
     "text": [
      "Correlation between loan amount and interest rate: 0.30824298473985967\n"
     ]
    }
   ],
   "source": [
    "correlation = df['loan_amount'].corr(df['int_rate'])\n",
    "print(\"Correlation between loan amount and interest rate:\", correlation)\n"
   ]
  },
  {
   "cell_type": "code",
   "execution_count": 16,
   "id": "f212054d-28dc-41d0-9678-9d98f54ff117",
   "metadata": {},
   "outputs": [
    {
     "name": "stdout",
     "output_type": "stream",
     "text": [
      "emp_length\n",
      "7 years      0.121754\n",
      "4 years      0.121668\n",
      "10+ years    0.120927\n",
      "6 years      0.120730\n",
      "2 years      0.120714\n",
      "1 year       0.120530\n",
      "5 years      0.120270\n",
      "3 years      0.120170\n",
      "< 1 year     0.119177\n",
      "9 years      0.119123\n",
      "8 years      0.119061\n",
      "Name: int_rate, dtype: float64\n"
     ]
    }
   ],
   "source": [
    "emp_length_avg = df.groupby('emp_length')['int_rate'].mean().sort_values(ascending=False)\n",
    "print(emp_length_avg)\n"
   ]
  },
  {
   "cell_type": "code",
   "execution_count": 17,
   "id": "774c4be6-4947-47b6-8b6f-5ef9287cd22a",
   "metadata": {},
   "outputs": [
    {
     "name": "stdout",
     "output_type": "stream",
     "text": [
      "purpose\n",
      "small business        0.256194\n",
      "renewable_energy      0.180851\n",
      "educational           0.158730\n",
      "house                 0.155738\n",
      "other                 0.153504\n",
      "moving                0.150268\n",
      "medical               0.149925\n",
      "Debt consolidation    0.145547\n",
      "vacation              0.142045\n",
      "home improvement      0.113700\n",
      "car                   0.103540\n",
      "credit card           0.101641\n",
      "major purchase        0.097630\n",
      "wedding               0.092672\n",
      "Name: default_flag, dtype: float64\n"
     ]
    }
   ],
   "source": [
    "purpose_default = df.groupby('purpose')['default_flag'].mean().sort_values(ascending=False)\n",
    "print(purpose_default)\n"
   ]
  },
  {
   "cell_type": "code",
   "execution_count": 18,
   "id": "22462fdd-5f5a-40aa-afc0-c75994e0cfbd",
   "metadata": {},
   "outputs": [
    {
     "name": "stdout",
     "output_type": "stream",
     "text": [
      "Premium borrowers stats:\n",
      " loan_amount     14452.771832\n",
      "int_rate            0.115490\n",
      "default_flag        0.093536\n",
      "dtype: float64\n",
      "Non-premium borrowers stats:\n",
      " loan_amount     10861.070228\n",
      "int_rate            0.121177\n",
      "default_flag        0.144408\n",
      "dtype: float64\n"
     ]
    }
   ],
   "source": [
    "premium = df[(df['annual_income']>75000) & (df['dti']<0.1)]\n",
    "non_premium = df[~((df['annual_income']>75000) & (df['dti']<0.1))]\n",
    "\n",
    "premium_stats = premium.agg({'loan_amount':'mean','int_rate':'mean','default_flag':'mean'})\n",
    "non_premium_stats = non_premium.agg({'loan_amount':'mean','int_rate':'mean','default_flag':'mean'})\n",
    "\n",
    "print(\"Premium borrowers stats:\\n\", premium_stats)\n",
    "print(\"Non-premium borrowers stats:\\n\", non_premium_stats)\n"
   ]
  },
  {
   "cell_type": "code",
   "execution_count": 19,
   "id": "ddae3544-da41-493f-be1e-66096a9f2a53",
   "metadata": {},
   "outputs": [
    {
     "name": "stdout",
     "output_type": "stream",
     "text": [
      "            int_rate  default_flag  installment\n",
      "term                                           \n",
      " 36 months  0.110309      0.107058   314.252478\n",
      " 60 months  0.148289      0.223426   361.303658\n"
     ]
    }
   ],
   "source": [
    "term_stats = df.groupby('term').agg({\n",
    "    'int_rate':'mean',\n",
    "    'default_flag':'mean',\n",
    "    'installment':'mean'\n",
    "})\n",
    "print(term_stats)\n"
   ]
  },
  {
   "cell_type": "code",
   "execution_count": 20,
   "id": "f368ec50-6e98-4444-b975-fa5554d42574",
   "metadata": {},
   "outputs": [
    {
     "name": "stdout",
     "output_type": "stream",
     "text": [
      "            id  expected_revenue  loan_amount  int_rate\n",
      "22308  1034059       14418.59076        35000    0.2391\n",
      "22318  1019978       14071.92192        35000    0.2352\n",
      "23366   856652       13808.00520        35000    0.2322\n",
      "23363   976906       13729.36662        35000    0.2313\n",
      "27251  1047248       13729.36662        35000    0.2313\n",
      "23337   874599       13485.97860        35000    0.2285\n",
      "24110  1020847       13390.90380        35000    0.2274\n",
      "21652   989285       13390.90380        35000    0.2274\n",
      "22018   994796       13390.90380        35000    0.2274\n",
      "6239    965807       13390.90380        35000    0.2274\n"
     ]
    }
   ],
   "source": [
    "# Revenue = installment * number of months * int_rate\n",
    "df['term_months'] = df['term'].str.extract('(\\d+)').astype(int)\n",
    "df['expected_revenue'] = df['installment'] * df['term_months'] * df['int_rate']\n",
    "top_revenue_loans = df.sort_values('expected_revenue', ascending=False).head(10)\n",
    "print(top_revenue_loans[['id','expected_revenue','loan_amount','int_rate']])\n"
   ]
  },
  {
   "cell_type": "code",
   "execution_count": 21,
   "id": "4e5eea6c-2a2e-4492-bf3a-929ff7ea6bb2",
   "metadata": {},
   "outputs": [
    {
     "name": "stdout",
     "output_type": "stream",
     "text": [
      "verification_status\n",
      "Not Verified       0.122388\n",
      "Source Verified    0.141352\n",
      "Verified           0.156952\n",
      "Name: default_flag, dtype: float64\n"
     ]
    }
   ],
   "source": [
    "verification_stats = df.groupby('verification_status')['default_flag'].mean()\n",
    "print(verification_stats)\n"
   ]
  },
  {
   "cell_type": "code",
   "execution_count": 22,
   "id": "b77ff6c7-fb78-40ae-ba0a-c04792c51555",
   "metadata": {},
   "outputs": [
    {
     "name": "stdout",
     "output_type": "stream",
     "text": [
      "default_flag     1.000000\n",
      "loan_amount      0.053256\n",
      "dti              0.040696\n",
      "total_acc       -0.019685\n",
      "annual_income   -0.038181\n",
      "Name: default_flag, dtype: float64\n"
     ]
    }
   ],
   "source": [
    "correlations = df[['annual_income','dti','total_acc','loan_amount','default_flag']].corr()['default_flag'].sort_values(ascending=False)\n",
    "print(correlations)\n"
   ]
  },
  {
   "cell_type": "code",
   "execution_count": 23,
   "id": "f6263097-ef97-4e4a-ad4e-b3cab1df315a",
   "metadata": {},
   "outputs": [
    {
     "name": "stdout",
     "output_type": "stream",
     "text": [
      "loan_status\n",
      "Charged Off    -18.471779\n",
      "Current       -122.471767\n",
      "Fully Paid     -16.386188\n",
      "Name: time_to_last_payment, dtype: float64\n"
     ]
    }
   ],
   "source": [
    "df['time_to_last_payment'] = (df['last_payment_date'] - df['issue_date']).dt.days\n",
    "time_stats = df.groupby('loan_status')['time_to_last_payment'].mean()\n",
    "print(time_stats)\n"
   ]
  },
  {
   "cell_type": "code",
   "execution_count": 24,
   "id": "ff123b70-df62-4467-ba9f-bd235b734811",
   "metadata": {},
   "outputs": [],
   "source": [
    "df['term_months'] = df['term'].str.extract('(\\d+)').astype(int)"
   ]
  },
  {
   "cell_type": "code",
   "execution_count": 29,
   "id": "e0971985-38e3-4f31-b095-3d3907f5c751",
   "metadata": {},
   "outputs": [
    {
     "name": "stdout",
     "output_type": "stream",
     "text": [
      "Series([], dtype: int64)\n"
     ]
    }
   ],
   "source": [
    "df['expected_last_payment'] = df['issue_date'] + pd.to_timedelta(df['term_months']*30, unit='D')\n",
    "late_loans = df[df['next_payment_date'] > df['expected_last_payment']]\n",
    "late_by_state = late_loans.groupby('address_state').size().sort_values(ascending=False)\n",
    "print(late_by_state)\n"
   ]
  },
  {
   "cell_type": "code",
   "execution_count": 30,
   "id": "9cbf9d0e-785d-4787-93f4-2a95d4b62248",
   "metadata": {},
   "outputs": [
    {
     "name": "stdout",
     "output_type": "stream",
     "text": [
      "sub_grade\n",
      "G4    0.219741\n",
      "G5    0.218967\n",
      "G3    0.216160\n",
      "G1    0.210914\n",
      "G2    0.210660\n",
      "F5    0.207300\n",
      "F4    0.203407\n",
      "F3    0.200280\n",
      "F2    0.193907\n",
      "F1    0.192010\n",
      "E5    0.187087\n",
      "E4    0.182649\n",
      "E3    0.177709\n",
      "E2    0.174320\n",
      "E1    0.170083\n",
      "D5    0.166341\n",
      "D4    0.161519\n",
      "D3    0.157645\n",
      "D2    0.153489\n",
      "D1    0.148384\n",
      "C5    0.144933\n",
      "C4    0.140427\n",
      "C3    0.136511\n",
      "C2    0.133496\n",
      "C1    0.128522\n",
      "B5    0.117866\n",
      "B4    0.114090\n",
      "B3    0.109976\n",
      "B2    0.104936\n",
      "B1    0.100120\n",
      "A5    0.082733\n",
      "A4    0.076643\n",
      "A3    0.071728\n",
      "A2    0.063863\n",
      "A1    0.058137\n",
      "Name: int_rate, dtype: float64\n"
     ]
    }
   ],
   "source": [
    "subgrade_premium = df.groupby('sub_grade')['int_rate'].mean().sort_values(ascending=False)\n",
    "print(subgrade_premium)\n"
   ]
  },
  {
   "cell_type": "code",
   "execution_count": 31,
   "id": "99b44113-16da-4af6-b183-79f08b1cb137",
   "metadata": {},
   "outputs": [
    {
     "name": "stdout",
     "output_type": "stream",
     "text": [
      "emp_title\n",
      "15                                1.0\n",
      "Kalahari Resorts                  1.0\n",
      "Kelly Pre-Owned LLC               1.0\n",
      "Kellogg                           1.0\n",
      "Keller Williams Premier Realty    1.0\n",
      "Name: default_flag, dtype: float64\n"
     ]
    }
   ],
   "source": [
    "top_emp_titles = df.groupby('emp_title')['default_flag'].mean().sort_values(ascending=False).head(5)\n",
    "print(top_emp_titles)\n"
   ]
  },
  {
   "cell_type": "code",
   "execution_count": 32,
   "id": "37ebf0b2-07d6-4d97-9352-5719d04c26b8",
   "metadata": {},
   "outputs": [
    {
     "name": "stdout",
     "output_type": "stream",
     "text": [
      "home_ownership\n",
      "OTHER       0.183673\n",
      "RENT        0.145724\n",
      "OWN         0.139887\n",
      "MORTGAGE    0.129724\n",
      "NONE        0.000000\n",
      "Name: default_flag, dtype: float64\n"
     ]
    }
   ],
   "source": [
    "home_default = df.groupby('home_ownership')['default_flag'].mean().sort_values(ascending=False)\n",
    "print(home_default)\n"
   ]
  },
  {
   "cell_type": "code",
   "execution_count": 33,
   "id": "6212c89a-66ea-4191-8d45-899af0213a86",
   "metadata": {},
   "outputs": [
    {
     "name": "stdout",
     "output_type": "stream",
     "text": [
      "             int_rate  default_flag  expected_revenue\n",
      "loan_bucket                                          \n",
      "Small        0.112145      0.130473      4.413113e+06\n",
      "Medium       0.115869      0.125906      2.964414e+07\n",
      "Large        0.139328      0.173947      3.765111e+07\n"
     ]
    },
    {
     "name": "stderr",
     "output_type": "stream",
     "text": [
      "C:\\Users\\chait\\AppData\\Local\\Temp\\ipykernel_2636\\3404138365.py:4: FutureWarning: The default of observed=False is deprecated and will be changed to True in a future version of pandas. Pass observed=False to retain current behavior or observed=True to adopt the future default and silence this warning.\n",
      "  loan_bucket_stats = df.groupby('loan_bucket').agg({'int_rate':'mean','default_flag':'mean','expected_revenue':'sum'})\n"
     ]
    }
   ],
   "source": [
    "bins = [0,5000,15000,np.inf]\n",
    "labels = ['Small','Medium','Large']\n",
    "df['loan_bucket'] = pd.cut(df['loan_amount'], bins=bins, labels=labels)\n",
    "loan_bucket_stats = df.groupby('loan_bucket').agg({'int_rate':'mean','default_flag':'mean','expected_revenue':'sum'})\n",
    "print(loan_bucket_stats)\n"
   ]
  },
  {
   "cell_type": "code",
   "execution_count": 34,
   "id": "6ba32209-2de5-4cac-ab8d-a1509a6fd258",
   "metadata": {},
   "outputs": [
    {
     "name": "stdout",
     "output_type": "stream",
     "text": [
      "Correlation income/loan ratio vs default: -0.04105689938791358\n"
     ]
    }
   ],
   "source": [
    "df['income_loan_ratio'] = df['annual_income']/df['loan_amount']\n",
    "ratio_corr = df['income_loan_ratio'].corr(df['default_flag'])\n",
    "print(\"Correlation income/loan ratio vs default:\", ratio_corr)\n"
   ]
  },
  {
   "cell_type": "code",
   "execution_count": 35,
   "id": "17b08436-4806-40cb-9d21-5491570edec1",
   "metadata": {},
   "outputs": [
    {
     "name": "stdout",
     "output_type": "stream",
     "text": [
      "                                default_flag\n",
      "verification_status term                    \n",
      "Not Verified         36 months      0.109593\n",
      "                     60 months      0.199658\n",
      "Source Verified      36 months      0.099956\n",
      "                     60 months      0.236505\n",
      "Verified             36 months      0.108782\n",
      "                     60 months      0.226767\n"
     ]
    }
   ],
   "source": [
    "combo = df.groupby(['verification_status','term']).agg({'default_flag':'mean'})\n",
    "print(combo)\n"
   ]
  },
  {
   "cell_type": "code",
   "execution_count": 36,
   "id": "71436158-fe94-4fca-8214-c6dca03faeb8",
   "metadata": {},
   "outputs": [
    {
     "name": "stdout",
     "output_type": "stream",
     "text": [
      "      address_state       id  expected_revenue\n",
      "6476             AK  1039811      10673.581560\n",
      "23316            AL   819515      11737.149120\n",
      "30271            AR   724312      10627.129920\n",
      "23337            AZ   874599      13485.978600\n",
      "27251            CA  1047248      13729.366620\n",
      "28263            CO  1020936      13390.903800\n",
      "27396            CT   843071      11922.487920\n",
      "22315            DC   896003      12061.667520\n",
      "27744            DE   690981      10061.726640\n",
      "23306            FL   936696      11840.995140\n",
      "24572            GA   882281      12865.769280\n",
      "23287            HI   879508      13056.512400\n",
      "7778             IA   248498       2203.097472\n",
      "32323            ID   293977       2930.691456\n",
      "22018            IL   994796      13390.903800\n",
      "7824             IN   182845       2784.891888\n",
      "37157            KS   831331      10883.765640\n",
      "24553            KY  1003229      11056.500840\n",
      "20534            LA   881875      12160.115520\n",
      "24681            MA   890375      12810.594960\n",
      "22308            MD  1034059      14418.590760\n",
      "31970            ME   142608        620.391852\n",
      "24699            MI  1018129      11840.995140\n",
      "21938            MN  1054653      10673.581560\n",
      "22001            MO  1045045      13056.512400\n",
      "9182             MS   381578       2862.288792\n",
      "21147            MT   994355      10423.029120\n",
      "21652            NC   989285      13390.903800\n",
      "7070             NE   178157       2229.396480\n",
      "22953            NH   968585       9784.263000\n",
      "24680            NJ  1035681      12810.594960\n",
      "6608             NM  1066706       9579.691800\n",
      "22296            NV   888402      11840.995140\n",
      "23363            NY   976906      13729.366620\n",
      "6239             OH   965807      13390.903800\n",
      "23284            OK  1034920      12483.350220\n",
      "22263            OR  1009540       9742.051200\n",
      "23366            PA   856652      13808.005200\n",
      "24067            RI   653295       6971.328000\n",
      "37220            SC   772157      12852.896760\n",
      "35151            SD   811240       5318.937360\n",
      "36470            TN   976860       2491.713720\n",
      "24096            TX   978527      13390.903800\n",
      "21998            UT   772405      11622.380520\n",
      "6469             VA  1035425      12810.594960\n",
      "24360            VT  1038738       3606.273000\n",
      "6363             WA   968759      11840.995140\n",
      "22318            WI  1019978      14071.921920\n",
      "23829            WV  1031612       9066.024660\n",
      "5972             WY   767286       7647.409440\n"
     ]
    }
   ],
   "source": [
    "state_top_revenue = df.loc[df.groupby('address_state')['expected_revenue'].idxmax()]\n",
    "print(state_top_revenue[['address_state','id','expected_revenue']])\n"
   ]
  },
  {
   "cell_type": "code",
   "execution_count": 37,
   "id": "58ad8538-233c-4c01-bf2e-98d452ed87a9",
   "metadata": {},
   "outputs": [
    {
     "name": "stdout",
     "output_type": "stream",
     "text": [
      "                 default_flag   loan_amount  int_rate\n",
      "income_quartile                                      \n",
      "Q1                   0.169479   7147.463506  0.117847\n",
      "Q2                   0.146911  10234.759725  0.119179\n",
      "Q3                   0.126737  12552.812051  0.120755\n",
      "Q4                   0.107113  15565.543343  0.124387\n"
     ]
    },
    {
     "name": "stderr",
     "output_type": "stream",
     "text": [
      "C:\\Users\\chait\\AppData\\Local\\Temp\\ipykernel_2636\\2880222183.py:2: FutureWarning: The default of observed=False is deprecated and will be changed to True in a future version of pandas. Pass observed=False to retain current behavior or observed=True to adopt the future default and silence this warning.\n",
      "  quartile_stats = df.groupby('income_quartile').agg({'default_flag':'mean','loan_amount':'mean','int_rate':'mean'})\n"
     ]
    }
   ],
   "source": [
    "df['income_quartile'] = pd.qcut(df['annual_income'], 4, labels=['Q1','Q2','Q3','Q4'])\n",
    "quartile_stats = df.groupby('income_quartile').agg({'default_flag':'mean','loan_amount':'mean','int_rate':'mean'})\n",
    "print(quartile_stats)\n"
   ]
  },
  {
   "cell_type": "code",
   "execution_count": 38,
   "id": "fbe26e17-987e-4e0b-952b-019f3c66b09b",
   "metadata": {},
   "outputs": [
    {
     "name": "stdout",
     "output_type": "stream",
     "text": [
      "dti_bucket\n",
      "<0.1       0.114698\n",
      "0.1-0.2    0.122826\n",
      "0.2-0.3    0.124806\n",
      ">0.3            NaN\n",
      "Name: int_rate, dtype: float64\n"
     ]
    },
    {
     "name": "stderr",
     "output_type": "stream",
     "text": [
      "C:\\Users\\chait\\AppData\\Local\\Temp\\ipykernel_2636\\1303977781.py:4: FutureWarning: The default of observed=False is deprecated and will be changed to True in a future version of pandas. Pass observed=False to retain current behavior or observed=True to adopt the future default and silence this warning.\n",
      "  dti_stats = df.groupby('dti_bucket')['int_rate'].mean()\n"
     ]
    }
   ],
   "source": [
    "bins = [0,0.1,0.2,0.3,1]\n",
    "labels = ['<0.1','0.1-0.2','0.2-0.3','>0.3']\n",
    "df['dti_bucket'] = pd.cut(df['dti'], bins=bins, labels=labels)\n",
    "dti_stats = df.groupby('dti_bucket')['int_rate'].mean()\n",
    "print(dti_stats)\n"
   ]
  },
  {
   "cell_type": "code",
   "execution_count": 39,
   "id": "51c9f291-812c-4ecb-8137-1badd994e385",
   "metadata": {},
   "outputs": [
    {
     "name": "stdout",
     "output_type": "stream",
     "text": [
      "term        purpose           \n",
      " 60 months  educational           0.428571\n",
      "            small business        0.345550\n",
      "            vacation              0.254545\n",
      "            house                 0.252101\n",
      "            other                 0.250307\n",
      "            Debt consolidation    0.233723\n",
      " 36 months  small business        0.213633\n",
      " 60 months  medical               0.212500\n",
      "            credit card           0.208661\n",
      "            renewable_energy      0.200000\n",
      "            major purchase        0.183857\n",
      "            moving                0.181818\n",
      " 36 months  renewable_energy      0.173913\n",
      " 60 months  wedding               0.162037\n",
      "            home improvement      0.156863\n",
      " 36 months  educational           0.146179\n",
      "            moving                0.143478\n",
      " 60 months  car                   0.139963\n",
      " 36 months  medical               0.130178\n",
      "            other                 0.127285\n",
      "            vacation              0.121212\n",
      "            house                 0.109312\n",
      "            Debt consolidation    0.108477\n",
      "            home improvement      0.095072\n",
      "            car                   0.082809\n",
      "            major purchase        0.074519\n",
      "            credit card           0.074335\n",
      "            wedding               0.071629\n",
      "Name: default_flag, dtype: float64\n"
     ]
    }
   ],
   "source": [
    "term_purpose_risk = df.groupby(['term','purpose'])['default_flag'].mean().sort_values(ascending=False)\n",
    "print(term_purpose_risk)\n"
   ]
  },
  {
   "cell_type": "code",
   "execution_count": 40,
   "id": "b4bfe989-e927-4571-85ea-33568bdc7c17",
   "metadata": {},
   "outputs": [
    {
     "name": "stdout",
     "output_type": "stream",
     "text": [
      "Empty DataFrame\n",
      "Columns: [loan_amount, int_rate, default_flag]\n",
      "Index: []\n"
     ]
    }
   ],
   "source": [
    "multi_loans = df.groupby('member_id').filter(lambda x: len(x)>1)\n",
    "multi_stats = multi_loans.groupby('member_id').agg({'loan_amount':'mean','int_rate':'mean','default_flag':'mean'})\n",
    "print(multi_stats)\n"
   ]
  },
  {
   "cell_type": "code",
   "execution_count": 41,
   "id": "7c56c10b-0967-4b86-8b60-a1a992ae99b2",
   "metadata": {},
   "outputs": [
    {
     "name": "stdout",
     "output_type": "stream",
     "text": [
      "issue_period\n",
      "First Half     0.133640\n",
      "Second Half    0.141542\n",
      "Name: default_flag, dtype: float64\n"
     ]
    },
    {
     "name": "stderr",
     "output_type": "stream",
     "text": [
      "C:\\Users\\chait\\AppData\\Local\\Temp\\ipykernel_2636\\2765848817.py:2: FutureWarning: The default of observed=False is deprecated and will be changed to True in a future version of pandas. Pass observed=False to retain current behavior or observed=True to adopt the future default and silence this warning.\n",
      "  issue_stats = df.groupby('issue_period')['default_flag'].mean()\n"
     ]
    }
   ],
   "source": [
    "df['issue_period'] = pd.cut(df['issue_date'].dt.month, bins=[0,6,12], labels=['First Half','Second Half'])\n",
    "issue_stats = df.groupby('issue_period')['default_flag'].mean()\n",
    "print(issue_stats)\n"
   ]
  },
  {
   "cell_type": "code",
   "execution_count": 42,
   "id": "7a6b8723-4dcf-4dc5-a2d6-59db715c1b31",
   "metadata": {},
   "outputs": [
    {
     "name": "stdout",
     "output_type": "stream",
     "text": [
      "purpose           sub_grade\n",
      "house             F4           1.0\n",
      "medical           G1           1.0\n",
      "renewable_energy  G5           1.0\n",
      "                  G4           1.0\n",
      "                  F1           1.0\n",
      "                              ... \n",
      "moving            F1           0.0\n",
      "                  E3           0.0\n",
      "medical           F5           0.0\n",
      "                  F4           0.0\n",
      "wedding           G5           0.0\n",
      "Name: default_flag, Length: 450, dtype: float64\n"
     ]
    }
   ],
   "source": [
    "purpose_subgrade_default = df.groupby(['purpose','sub_grade'])['default_flag'].mean().sort_values(ascending=False)\n",
    "print(purpose_subgrade_default)\n"
   ]
  },
  {
   "cell_type": "code",
   "execution_count": 43,
   "id": "e20e67b5-2755-4a80-bc8e-f0baa4e3cd9f",
   "metadata": {},
   "outputs": [
    {
     "name": "stdout",
     "output_type": "stream",
     "text": [
      "installment_ratio_bucket\n",
      "Low       0.138247\n",
      "Medium         NaN\n",
      "High           NaN\n",
      "Name: default_flag, dtype: float64\n"
     ]
    },
    {
     "name": "stderr",
     "output_type": "stream",
     "text": [
      "C:\\Users\\chait\\AppData\\Local\\Temp\\ipykernel_2636\\4022972806.py:5: FutureWarning: The default of observed=False is deprecated and will be changed to True in a future version of pandas. Pass observed=False to retain current behavior or observed=True to adopt the future default and silence this warning.\n",
      "  installment_stats = df.groupby('installment_ratio_bucket')['default_flag'].mean()\n"
     ]
    }
   ],
   "source": [
    "df['installment_income_ratio'] = df['installment']/df['annual_income']\n",
    "bins = [0,0.05,0.1,1]\n",
    "labels = ['Low','Medium','High']\n",
    "df['installment_ratio_bucket'] = pd.cut(df['installment_income_ratio'], bins=bins, labels=labels)\n",
    "installment_stats = df.groupby('installment_ratio_bucket')['default_flag'].mean()\n",
    "print(installment_stats)\n"
   ]
  },
  {
   "cell_type": "code",
   "execution_count": 44,
   "id": "a1fe59fd-5300-43b7-871b-4cce101ab958",
   "metadata": {},
   "outputs": [
    {
     "name": "stdout",
     "output_type": "stream",
     "text": [
      "emp_length\n",
      "10+ years    1.975270e+07\n",
      "2 years      7.249109e+06\n",
      "3 years      7.060465e+06\n",
      "< 1 year     7.016640e+06\n",
      "4 years      6.228441e+06\n",
      "5 years      6.073700e+06\n",
      "1 year       5.253772e+06\n",
      "6 years      4.270770e+06\n",
      "7 years      3.490651e+06\n",
      "8 years      2.875005e+06\n",
      "9 years      2.437116e+06\n",
      "Name: expected_revenue, dtype: float64\n"
     ]
    }
   ],
   "source": [
    "emp_length_revenue = df.groupby('emp_length')['expected_revenue'].sum().sort_values(ascending=False)\n",
    "print(emp_length_revenue)\n"
   ]
  },
  {
   "cell_type": "code",
   "execution_count": 45,
   "id": "fdb5c987-49c5-4316-ba20-bf894605592f",
   "metadata": {},
   "outputs": [
    {
     "name": "stdout",
     "output_type": "stream",
     "text": [
      "verification_status  sub_grade\n",
      "Not Verified         F5           0.642857\n",
      "                     G3           0.600000\n",
      "                     G2           0.500000\n",
      "Source Verified      G5           0.500000\n",
      "Verified             F5           0.462687\n",
      "                                    ...   \n",
      "                     A2           0.049470\n",
      "Source Verified      A2           0.038265\n",
      "Not Verified         A1           0.024180\n",
      "Verified             A1           0.023256\n",
      "Source Verified      A1           0.019934\n",
      "Name: default_flag, Length: 105, dtype: float64\n"
     ]
    }
   ],
   "source": [
    "ver_subgrade = df.groupby(['verification_status','sub_grade'])['default_flag'].mean().sort_values(ascending=False)\n",
    "print(ver_subgrade)\n"
   ]
  },
  {
   "cell_type": "code",
   "execution_count": 46,
   "id": "5b2bbc6d-a116-49b4-8743-be1257075adc",
   "metadata": {},
   "outputs": [
    {
     "name": "stdout",
     "output_type": "stream",
     "text": [
      "Correlation total accounts vs default: -0.01968464924911678\n"
     ]
    }
   ],
   "source": [
    "total_acc_corr = df['total_acc'].corr(df['default_flag'])\n",
    "print(\"Correlation total accounts vs default:\", total_acc_corr)\n"
   ]
  },
  {
   "cell_type": "code",
   "execution_count": 47,
   "id": "ecd8a19e-0a65-426e-a5a7-295bb1ae301f",
   "metadata": {},
   "outputs": [
    {
     "name": "stdout",
     "output_type": "stream",
     "text": [
      "loan_amount      0.000095\n",
      "int_rate        -0.000003\n",
      "annual_income   -0.000023\n",
      "installment     -0.003895\n",
      "dtype: float64\n"
     ]
    }
   ],
   "source": [
    "from sklearn.linear_model import LogisticRegression\n",
    "from sklearn.model_selection import train_test_split\n",
    "\n",
    "features = ['installment','loan_amount','int_rate','annual_income']\n",
    "X = df[features]\n",
    "y = df['default_flag']\n",
    "\n",
    "X_train, X_test, y_train, y_test = train_test_split(X, y, test_size=0.2, random_state=42)\n",
    "model = LogisticRegression(max_iter=1000)\n",
    "model.fit(X_train, y_train)\n",
    "importance = pd.Series(model.coef_[0], index=features).sort_values(ascending=False)\n",
    "print(importance)\n"
   ]
  },
  {
   "cell_type": "code",
   "execution_count": 48,
   "id": "e5d9000f-41c0-406e-9ca8-aa3fe4a941cc",
   "metadata": {},
   "outputs": [
    {
     "name": "stdout",
     "output_type": "stream",
     "text": [
      "Missing values:\n",
      " id                             0\n",
      "address_state                  0\n",
      "application_type               0\n",
      "emp_length                     0\n",
      "emp_title                   1438\n",
      "grade                          0\n",
      "home_ownership                 0\n",
      "issue_date                     0\n",
      "last_credit_pull_date          0\n",
      "last_payment_date              0\n",
      "loan_status                    0\n",
      "next_payment_date              0\n",
      "member_id                      0\n",
      "purpose                        0\n",
      "sub_grade                      0\n",
      "term                           0\n",
      "verification_status            0\n",
      "annual_income                  0\n",
      "dti                            0\n",
      "installment                    0\n",
      "int_rate                       0\n",
      "loan_amount                    0\n",
      "total_acc                      0\n",
      "total_payment                  0\n",
      "default_flag                   0\n",
      "term_months                    0\n",
      "expected_revenue               0\n",
      "time_to_last_payment           0\n",
      "expected_last_payment          0\n",
      "loan_bucket                    0\n",
      "income_loan_ratio              0\n",
      "income_quartile                0\n",
      "dti_bucket                   173\n",
      "issue_period                   0\n",
      "installment_income_ratio       0\n",
      "installment_ratio_bucket       0\n",
      "dtype: int64\n",
      "Potential outliers:\n",
      " Empty DataFrame\n",
      "Columns: [id, address_state, application_type, emp_length, emp_title, grade, home_ownership, issue_date, last_credit_pull_date, last_payment_date, loan_status, next_payment_date, member_id, purpose, sub_grade, term, verification_status, annual_income, dti, installment, int_rate, loan_amount, total_acc, total_payment, default_flag, term_months, expected_revenue, time_to_last_payment, expected_last_payment, loan_bucket, income_loan_ratio, income_quartile, dti_bucket, issue_period, installment_income_ratio, installment_ratio_bucket]\n",
      "Index: []\n",
      "\n",
      "[0 rows x 36 columns]\n"
     ]
    }
   ],
   "source": [
    "missing_summary = df.isnull().sum()\n",
    "outliers = df[(df['int_rate']>1) | (df['emp_length'].str.contains('-'))]  # example check\n",
    "print(\"Missing values:\\n\", missing_summary)\n",
    "print(\"Potential outliers:\\n\", outliers.head())\n"
   ]
  },
  {
   "cell_type": "code",
   "execution_count": null,
   "id": "91ac741b-dd60-434d-bcdc-1100556b03c8",
   "metadata": {},
   "outputs": [],
   "source": []
  }
 ],
 "metadata": {
  "kernelspec": {
   "display_name": "Python 3 (ipykernel)",
   "language": "python",
   "name": "python3"
  },
  "language_info": {
   "codemirror_mode": {
    "name": "ipython",
    "version": 3
   },
   "file_extension": ".py",
   "mimetype": "text/x-python",
   "name": "python",
   "nbconvert_exporter": "python",
   "pygments_lexer": "ipython3",
   "version": "3.11.7"
  }
 },
 "nbformat": 4,
 "nbformat_minor": 5
}
